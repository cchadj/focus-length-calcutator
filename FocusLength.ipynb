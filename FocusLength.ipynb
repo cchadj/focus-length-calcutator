{
 "cells": [
  {
   "cell_type": "code",
   "execution_count": 50,
   "id": "initial_id",
   "metadata": {
    "collapsed": true,
    "ExecuteTime": {
     "end_time": "2024-05-28T12:15:51.750938Z",
     "start_time": "2024-05-28T12:15:51.746547Z"
    }
   },
   "outputs": [],
   "source": []
  },
  {
   "cell_type": "code",
   "outputs": [],
   "source": [],
   "metadata": {
    "collapsed": false
   },
   "id": "aefed39cd2d0dc32"
  },
  {
   "cell_type": "code",
   "outputs": [
    {
     "name": "stdout",
     "output_type": "stream",
     "text": [
      "[15, 10, 5, 0, 5, 10]\n",
      "θ=15 norm=0.04 min=10.00 max=150.00 range140\n",
      "θ=10 norm=0.00 min=10.00 max=150.00 range140\n",
      "θ=5 norm=0.00 min=5.00 max=145.00 range140\n",
      "θ=0 norm=0.00 min=0.00 max=140.00 range140\n",
      "θ=5 norm=0.04 min=0.00 max=140.00 range140\n",
      "θ=10 norm=0.07 min=0.00 max=140.00 range140\n"
     ]
    }
   ],
   "source": [
    "from dataclasses import dataclass, field\n",
    "import numpy as np\n",
    "from enum import Enum\n",
    "\n",
    "class Direction(Enum):\n",
    "    CLOCKWISE = 1\n",
    "    COUNTERCLOCKWISE = 2\n",
    "\n",
    "@dataclass\n",
    "class FocusDistanceCalculator:\n",
    "    min_deg: float = field()\n",
    "    mid_deg: float = field()\n",
    "    max_deg: float = field()\n",
    "    range_deg: float = field(init=False)\n",
    "    curr_deg: float = field(default=0, init=False)\n",
    "    prev_deg: float = field(default=0, init=False)\n",
    "    n: float = field(default=1, init=False)\n",
    "    \n",
    "    def __post_init__(self):\n",
    "        self.prev_deg = self.max_deg\n",
    "        self.range_deg = self.calculate_angular_range(self.min_deg, self.max_deg, self.mid_deg)\n",
    "    \n",
    "    def get_norm(self, new_angle: float) -> float:\n",
    "        xt_new = new_angle * self.n\n",
    "        xt_old = self.prev_deg\n",
    "        \n",
    "        if self.min_deg < xt_new < self.max_deg:\n",
    "            pass\n",
    "        else:\n",
    "            direction = self.get_direction(xt_old, xt_new)\n",
    "            if direction == Direction.CLOCKWISE:\n",
    "                self.max_deg = xt_new\n",
    "                self.min_deg = self.max_deg - self.range_deg\n",
    "            elif direction == direction.COUNTERCLOCKWISE:\n",
    "                self.min_deg = xt_new\n",
    "                self.max_deg = self.min_deg + self.range_deg\n",
    "        normed_value = (new_angle - self.min_deg) / self.range_deg\n",
    "        self.prev_deg = new_angle\n",
    "        return normed_value\n",
    "        \n",
    "\n",
    "    @staticmethod\n",
    "    def calculate_angular_range(min_value: float, max_value: float, mid_value: float) -> float:\n",
    "        direct_diff = (max_value - min_value) % 360\n",
    "        wrapped_diff = (min_value - max_value) % 360\n",
    "\n",
    "        # Determine which difference is correct based on the midpoint\n",
    "        if (min_value < mid_value < max_value) or (max_value < min_value and (mid_value > min_value or mid_value < max_value)):\n",
    "            return direct_diff\n",
    "        else:\n",
    "            return wrapped_diff\n",
    "        \n",
    "    @staticmethod\n",
    "    def get_direction(xtold: float, xtnew: float) -> Direction:\n",
    "        xtold = xtold % 360\n",
    "        xtnew = xtnew % 360\n",
    "        diff = (xtnew - xtold) % 360\n",
    "        if diff < 180:\n",
    "            return Direction.CLOCKWISE\n",
    "        else:\n",
    "            return Direction.COUNTERCLOCKWISE\n",
    "    \n",
    "    @staticmethod\n",
    "    def _shortest_angle_distance(angle1: float, angle2: float) -> float:\n",
    "        # Normalize the angles\n",
    "        angle1 = angle1 % 360\n",
    "        angle2 = angle2 % 360\n",
    "        \n",
    "        # Calculate the absolute difference\n",
    "        diff = abs(angle1 - angle2)\n",
    "        \n",
    "        # Find the shortest distance\n",
    "        shortest_distance = min(diff, 360 - diff)\n",
    "        return shortest_distance\n",
    "    \n",
    "incoming_angles = np.array(\n",
    "    np.linspace(10,  360, num=36).tolist() + \n",
    "    np.linspace(00,  350, num=36).tolist() +\n",
    "    np.linspace(340, 0, num=35).tolist() +\n",
    "    list(reversed(np.linspace(10, 350, num=35).tolist()))\n",
    ")\n",
    "print(incoming_angles)\n",
    "fdc = FocusDistanceCalculator(min_deg=10, max_deg=150, mid_deg=80)\n",
    "for angle in incoming_angles:\n",
    "    print(f\"θ={angle:} norm={fdc.get_norm(angle):.2f} min={fdc.min_deg:.2f} max={fdc.max_deg:.2f} range{fdc.range_deg}\")\n",
    "    \n",
    "fdc = FocusDistanceCalculator(min_deg=10, max_deg=150, mid_deg=80)\n",
    "incoming_angles = [15, 10, 5, 0, 5, 10]\n",
    "print(incoming_angles)\n",
    "for angle in incoming_angles:\n",
    "    print(f\"θ={angle:} norm={fdc.get_norm(angle):.2f} min={fdc.min_deg:.2f} max={fdc.max_deg:.2f} range{fdc.range_deg}\")\n",
    "\n",
    "# assert np.isclose(fdc.get_norm(10), 0.0)\n",
    "# print(fdc.get_norm(180))\n",
    "# assert fdc.get_norm(180) == 0.5\n",
    "# print(fdc.get_norm(350))\n",
    "# assert fdc.get_norm(350) == 1.0\n",
    "# print(fdc.get_norm(360))\n",
    "# assert fdc.get_norm(360) == 1.0\n",
    "# print(fdc.get_norm(20))\n",
    "# assert fdc.get_norm(20) == 0.0\n",
    "# print(fdc.get_norm(10))\n",
    "# assert fdc.get_norm(10) == 0.0\n",
    "# assert fdc.get_norm(350) == 1.0\n",
    "# incoming_angles = [350, 360, 10, 20, 30]\n",
    "# for angle in incoming_angles:\n",
    "#     # xtnew = angle * n\n",
    "#     fdc.get_norm(angle)\n",
    "# \n",
    "assert FocusDistanceCalculator.get_direction(10, 350) == Direction.COUNTERCLOCKWISE\n",
    "assert FocusDistanceCalculator.get_direction(10, 20) == Direction.CLOCKWISE\n",
    "assert FocusDistanceCalculator.get_direction(350, 20) == Direction.CLOCKWISE\n",
    "\n",
    "# 1. test backward\n",
    "# 2. test same \n",
    "# 3. test change under a threshold\n",
    "# 4. \n"
   ],
   "metadata": {
    "collapsed": false,
    "ExecuteTime": {
     "end_time": "2024-05-28T14:31:48.926595Z",
     "start_time": "2024-05-28T14:31:48.923422Z"
    }
   },
   "id": "80bacbe839806252",
   "execution_count": 122
  },
  {
   "cell_type": "code",
   "outputs": [
    {
     "data": {
      "text/plain": "[350.0,\n 340.0,\n 330.0,\n 320.0,\n 310.0,\n 300.0,\n 290.0,\n 280.0,\n 270.0,\n 260.0,\n 250.0,\n 240.0,\n 230.0,\n 220.0,\n 210.0,\n 200.0,\n 190.0,\n 180.0,\n 170.0,\n 160.0,\n 150.0,\n 140.0,\n 130.0,\n 120.0,\n 110.0,\n 100.0,\n 90.0,\n 80.0,\n 70.0,\n 60.0,\n 50.0,\n 40.0,\n 30.0,\n 20.0,\n 10.0]"
     },
     "execution_count": 120,
     "metadata": {},
     "output_type": "execute_result"
    }
   ],
   "source": [
    "list(reversed(np.linspace(10, 350, num=35).tolist()))"
   ],
   "metadata": {
    "collapsed": false,
    "ExecuteTime": {
     "end_time": "2024-05-28T14:24:16.115355Z",
     "start_time": "2024-05-28T14:24:16.112517Z"
    }
   },
   "id": "a2655fa2e25c45aa",
   "execution_count": 120
  },
  {
   "cell_type": "code",
   "outputs": [
    {
     "data": {
      "text/plain": "array([350.        , 311.11111111, 272.22222222, 233.33333333,\n       194.44444444, 155.55555556, 116.66666667,  77.77777778,\n        38.88888889])"
     },
     "execution_count": 105,
     "metadata": {},
     "output_type": "execute_result"
    }
   ],
   "source": [
    "np.linspace(\n",
    "  350, 0, 10\n",
    ")[:-1]"
   ],
   "metadata": {
    "collapsed": false,
    "ExecuteTime": {
     "end_time": "2024-05-28T14:19:12.850170Z",
     "start_time": "2024-05-28T14:19:12.845792Z"
    }
   },
   "id": "b4bfb8b576bfd9ca",
   "execution_count": 105
  },
  {
   "cell_type": "code",
   "outputs": [
    {
     "data": {
      "text/plain": "[0, 1, 2, 3]"
     },
     "execution_count": 92,
     "metadata": {},
     "output_type": "execute_result"
    }
   ],
   "source": [
    "[0, 1] + [2, 3]"
   ],
   "metadata": {
    "collapsed": false,
    "ExecuteTime": {
     "end_time": "2024-05-28T13:56:38.192384Z",
     "start_time": "2024-05-28T13:56:38.188007Z"
    }
   },
   "id": "25c72bba4a94c1b",
   "execution_count": 92
  }
 ],
 "metadata": {
  "kernelspec": {
   "display_name": "Python 3",
   "language": "python",
   "name": "python3"
  },
  "language_info": {
   "codemirror_mode": {
    "name": "ipython",
    "version": 2
   },
   "file_extension": ".py",
   "mimetype": "text/x-python",
   "name": "python",
   "nbconvert_exporter": "python",
   "pygments_lexer": "ipython2",
   "version": "2.7.6"
  }
 },
 "nbformat": 4,
 "nbformat_minor": 5
}
