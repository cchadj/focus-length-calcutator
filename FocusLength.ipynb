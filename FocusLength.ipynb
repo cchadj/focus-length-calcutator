{
 "cells": [
  {
   "cell_type": "code",
   "outputs": [
    {
     "name": "stdout",
     "output_type": "stream",
     "text": [
      "[15, 10, 5, 0, 5, 10]\n",
      "θ=15 norm=0.04 min=10.00 max=150.00 range140\n",
      "θ=10 norm=0.00 min=10.00 max=150.00 range140\n",
      "θ=5 norm=0.00 min=5.00 max=145.00 range140\n",
      "θ=0 norm=0.00 min=0.00 max=140.00 range140\n",
      "θ=5 norm=0.04 min=0.00 max=140.00 range140\n",
      "θ=10 norm=0.07 min=0.00 max=140.00 range140\n"
     ]
    }
   ],
   "source": [
    "from dataclasses import dataclass, field\n",
    "import numpy as np\n",
    "from enum import Enum\n",
    "\n",
    "class Direction(Enum):\n",
    "    CLOCKWISE = 1\n",
    "    COUNTERCLOCKWISE = 2\n",
    "\n",
    "@dataclass\n",
    "class FocusDistanceCalculator:\n",
    "    min_deg: float = field()\n",
    "    mid_deg: float = field()\n",
    "    max_deg: float = field()\n",
    "    range_deg: float = field(init=False)\n",
    "    curr_deg: float = field(default=0, init=False)\n",
    "    prev_deg: float = field(default=0, init=False)\n",
    "    n: float = field(default=1, init=False)\n",
    "    \n",
    "    def __post_init__(self):\n",
    "        self.prev_deg = self.max_deg\n",
    "        self.range_deg = self.calculate_angular_range(self.min_deg, self.max_deg, self.mid_deg)\n",
    "    \n",
    "    def get_norm(self, new_angle: float) -> float:\n",
    "        xt_new = new_angle * self.n\n",
    "        xt_old = self.prev_deg\n",
    "        \n",
    "        if self.min_deg < xt_new < self.max_deg:\n",
    "            pass\n",
    "        else:\n",
    "            direction = self.get_direction(xt_old, xt_new)\n",
    "            if direction == Direction.CLOCKWISE:\n",
    "                self.max_deg = xt_new\n",
    "                self.min_deg = self.max_deg - self.range_deg\n",
    "            elif direction == direction.COUNTERCLOCKWISE:\n",
    "                self.min_deg = xt_new\n",
    "                self.max_deg = self.min_deg + self.range_deg\n",
    "        normed_value = (new_angle - self.min_deg) / self.range_deg\n",
    "        self.prev_deg = new_angle\n",
    "        return normed_value\n",
    "        \n",
    "\n",
    "    @staticmethod\n",
    "    def calculate_angular_range(min_value: float, max_value: float, mid_value: float) -> float:\n",
    "        direct_diff = (max_value - min_value) % 360\n",
    "        wrapped_diff = (min_value - max_value) % 360\n",
    "\n",
    "        # Determine which difference is correct based on the midpoint\n",
    "        if (min_value < mid_value < max_value) or (max_value < min_value and (mid_value > min_value or mid_value < max_value)):\n",
    "            return direct_diff\n",
    "        else:\n",
    "            return wrapped_diff\n",
    "        \n",
    "    @staticmethod\n",
    "    def get_direction(xtold: float, xtnew: float) -> Direction:\n",
    "        xtold = xtold % 360\n",
    "        xtnew = xtnew % 360\n",
    "        diff = (xtnew - xtold) % 360\n",
    "        if diff < 180:\n",
    "            return Direction.CLOCKWISE\n",
    "        else:\n",
    "            return Direction.COUNTERCLOCKWISE\n",
    "    \n",
    "    @staticmethod\n",
    "    def _shortest_angle_distance(angle1: float, angle2: float) -> float:\n",
    "        # Normalize the angles\n",
    "        angle1 = angle1 % 360\n",
    "        angle2 = angle2 % 360\n",
    "        \n",
    "        # Calculate the absolute difference\n",
    "        diff = abs(angle1 - angle2)\n",
    "        \n",
    "        # Find the shortest distance\n",
    "        shortest_distance = min(diff, 360 - diff)\n",
    "        return shortest_distance\n",
    "    \n",
    "incoming_angles = np.array(\n",
    "    np.linspace(10,  360, num=36).tolist() + \n",
    "    np.linspace(00,  350, num=36).tolist() +\n",
    "    np.linspace(340, 0, num=35).tolist() +\n",
    "    list(reversed(np.linspace(10, 350, num=35).tolist()))\n",
    ")\n",
    "print(incoming_angles)\n",
    "fdc = FocusDistanceCalculator(min_deg=10, max_deg=150, mid_deg=80)\n",
    "for angle in incoming_angles:\n",
    "    print(f\"θ={angle:} norm={fdc.get_norm(angle):.2f} min={fdc.min_deg:.2f} max={fdc.max_deg:.2f} range{fdc.range_deg}\")\n",
    "    \n",
    "fdc = FocusDistanceCalculator(min_deg=10, max_deg=150, mid_deg=80)\n",
    "incoming_angles = [15, 10, 5, 0, 5, 10]\n",
    "print(incoming_angles)\n",
    "for angle in incoming_angles:\n",
    "    print(f\"θ={angle:} norm={fdc.get_norm(angle):.2f} min={fdc.min_deg:.2f} max={fdc.max_deg:.2f} range{fdc.range_deg}\")\n",
    "\n",
    "# incoming_angles = [350, 360, 10, 20, 30]\n",
    "# for angle in incoming_angles:\n",
    "#     # xtnew = angle * n\n",
    "#     fdc.get_norm(angle)\n",
    "# \n",
    "\n",
    "# 1. test backward\n",
    "# 2. test same \n",
    "# 3. test change under a threshold\n",
    "# 4. \n"
   ],
   "metadata": {
    "collapsed": false,
    "ExecuteTime": {
     "end_time": "2024-05-28T14:31:48.926595Z",
     "start_time": "2024-05-28T14:31:48.923422Z"
    }
   },
   "id": "80bacbe839806252",
   "execution_count": 122
  },
  {
   "cell_type": "code",
   "outputs": [],
   "source": [
    "assert FocusDistanceCalculator.get_direction(10, 350) == Direction.COUNTERCLOCKWISE\n",
    "assert FocusDistanceCalculator.get_direction(10, 20) == Direction.CLOCKWISE\n",
    "assert FocusDistanceCalculator.get_direction(0, 179) == Direction.CLOCKWISE\n",
    "assert FocusDistanceCalculator.get_direction(179, 0) == Direction.COUNTERCLOCKWISE\n",
    "assert FocusDistanceCalculator.get_direction(350, 20) == Direction.CLOCKWISE\n",
    "assert FocusDistanceCalculator.get_direction(350, 20) == Direction.CLOCKWISE\n"
   ],
   "metadata": {
    "collapsed": false,
    "ExecuteTime": {
     "end_time": "2024-05-28T17:48:43.979005Z",
     "start_time": "2024-05-28T17:48:43.974284Z"
    }
   },
   "id": "a2655fa2e25c45aa",
   "execution_count": 126
  },
  {
   "cell_type": "code",
   "outputs": [],
   "source": [
    "fdc = FocusDistanceCalculator(min_deg=10, max_deg=20, mid_deg=15)\n",
    "assert np.isclose(fdc.get_norm(20), 1.0)\n",
    "assert np.isclose(fdc.get_norm(15), (15 - 10) %360 / 10 )\n",
    "assert np.isclose(fdc.get_norm(10), 0.0)\n",
    "assert np.isclose(fdc.get_norm(5), 0.0)\n",
    "assert np.isclose(fdc.get_norm(10), .5)\n",
    "assert np.isclose(fdc.get_norm(14), (14 - 5) % 360 / 10)\n",
    "assert np.isclose(fdc.get_norm(15), 1.0)"
   ],
   "metadata": {
    "collapsed": false,
    "ExecuteTime": {
     "end_time": "2024-05-28T17:54:51.251400Z",
     "start_time": "2024-05-28T17:54:51.247287Z"
    }
   },
   "id": "b4bfb8b576bfd9ca",
   "execution_count": 148
  }
 ],
 "metadata": {
  "kernelspec": {
   "display_name": "Python 3",
   "language": "python",
   "name": "python3"
  },
  "language_info": {
   "codemirror_mode": {
    "name": "ipython",
    "version": 2
   },
   "file_extension": ".py",
   "mimetype": "text/x-python",
   "name": "python",
   "nbconvert_exporter": "python",
   "pygments_lexer": "ipython2",
   "version": "2.7.6"
  }
 },
 "nbformat": 4,
 "nbformat_minor": 5
}
